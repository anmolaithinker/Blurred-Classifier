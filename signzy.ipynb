{
 "cells": [
  {
   "cell_type": "code",
   "execution_count": 186,
   "metadata": {},
   "outputs": [],
   "source": [
    "# import the necessary packages\n",
    "from imutils import paths\n",
    "import cv2\n",
    "from PIL import Image\n",
    "import os\n",
    "import numpy as np\n",
    "import matplotlib.pyplot as plt\n",
    "import pandas as pd\n",
    "import shutil"
   ]
  },
  {
   "cell_type": "markdown",
   "metadata": {},
   "source": [
    "# Using OpenCV\n",
    "\n",
    "#### Using Laplacian\n",
    "- the goal of this operators is to measure the\n",
    " amount of edges present in images, through the\n",
    " second derivative or Laplacian\n",
    " \n",
    "- You simply take a single channel of an image (presumably grayscale) and convolve it with the following 3 x 3     kernel \n",
    "\n",
    "- And then take the variance (i.e. standard deviation squared) of the response.\n",
    "\n",
    "- If the variance falls below a pre-defined threshold, then the image is considered blurry; otherwise, the image is not blurry.\n",
    "\n",
    "- To find Predefined Threshold I am checking what is the best threshold by trying various thresholds and analyzing them. You can find the details below\n",
    "##### Refrence - https://www.pyimagesearch.com/2015/09/07/blur-detection-with-opencv/"
   ]
  },
  {
   "cell_type": "code",
   "execution_count": 311,
   "metadata": {},
   "outputs": [],
   "source": [
    "# Fixing The Image Size (Making all Images of Same Size)\n",
    "def fix_image_size(image, expected_pixels=2E6):\n",
    "    ratio = float(expected_pixels) / float(image.shape[0] * image.shape[1])\n",
    "    return cv2.resize(image, (0, 0), fx=ratio, fy=ratio)\n",
    "\n",
    "# Estimating Blurr With Laplacian\n",
    "def estimate_blur(image, threshold=200):\n",
    "    if image.ndim == 3:\n",
    "        image = cv2.cvtColor(image, cv2.COLOR_BGR2GRAY)\n",
    "\n",
    "    blur_map = cv2.Laplacian(image, cv2.CV_64F)\n",
    "    score = np.var(blur_map)\n",
    "    return blur_map, score, bool(score < threshold)\n",
    "\n",
    "# Function to tell whether the image is blur or not\n",
    "def Process(image,threshold):\n",
    "    image = cv2.imread(image)\n",
    "    image = fix_image_size(image)\n",
    "    blurmap,score,b = estimate_blur(image,threshold)\n",
    "#     print('Score : ' + str(score))\n",
    "#     print('Blur : ' + str(b))\n",
    "    return b"
   ]
  },
  {
   "cell_type": "code",
   "execution_count": 313,
   "metadata": {},
   "outputs": [
    {
     "name": "stdout",
     "output_type": "stream",
     "text": [
      "Naturally-Blurred\n",
      "Done : Naturally-Blurred\n",
      "Artificially-Blurred\n",
      "Done : Artificially-Blurred\n",
      "NewDigitalBlur\n",
      "Done : NewDigitalBlur\n",
      "Undistorted\n",
      "Done : Undistorted\n"
     ]
    }
   ],
   "source": [
    "Training_file = './TrainingSet/'\n",
    "Images = []\n",
    "filenames = []\n",
    "for filename in os.listdir(Training_file):\n",
    "    lis = []\n",
    "    print(filename)\n",
    "    filenames.append(filename)\n",
    "    for image in os.listdir(Training_file+filename):\n",
    "        lis.append(Training_file+filename+'/'+image)\n",
    "    Images.append(lis)\n",
    "    print('Done : ' + str(filename))"
   ]
  },
  {
   "cell_type": "code",
   "execution_count": 314,
   "metadata": {},
   "outputs": [
    {
     "data": {
      "text/plain": [
       "['Naturally-Blurred', 'Artificially-Blurred', 'NewDigitalBlur', 'Undistorted']"
      ]
     },
     "execution_count": 314,
     "metadata": {},
     "output_type": "execute_result"
    }
   ],
   "source": [
    "filenames"
   ]
  },
  {
   "cell_type": "code",
   "execution_count": 315,
   "metadata": {},
   "outputs": [
    {
     "data": {
      "text/plain": [
       "220"
      ]
     },
     "execution_count": 315,
     "metadata": {},
     "output_type": "execute_result"
    }
   ],
   "source": [
    "len(Images[0])"
   ]
  },
  {
   "cell_type": "code",
   "execution_count": 320,
   "metadata": {},
   "outputs": [
    {
     "name": "stdout",
     "output_type": "stream",
     "text": [
      "------------------------\n",
      "File Name : Naturally-Blurred\n",
      "ThreshHold : 100\n",
      "\n",
      "\n",
      "Count : 69\n",
      "Total : 220\n",
      "Accuracy : 31\n",
      "------------------------\n",
      "File Name : Artificially-Blurred\n",
      "ThreshHold : 100\n",
      "\n",
      "\n",
      "Count : 132\n",
      "Total : 150\n",
      "Accuracy : 88\n",
      "------------------------\n",
      "File Name : NewDigitalBlur\n",
      "ThreshHold : 100\n",
      "\n",
      "\n",
      "Count : 87\n",
      "Total : 150\n",
      "Accuracy : 57\n",
      "------------------>Overall Accuracy<--------------- : 55\n",
      "------------------------\n",
      "File Name : Naturally-Blurred\n",
      "ThreshHold : 300\n",
      "\n",
      "\n",
      "Count : 132\n",
      "Total : 220\n",
      "Accuracy : 60\n",
      "------------------------\n",
      "File Name : Artificially-Blurred\n",
      "ThreshHold : 300\n",
      "\n",
      "\n",
      "Count : 148\n",
      "Total : 150\n",
      "Accuracy : 98\n",
      "------------------------\n",
      "File Name : NewDigitalBlur\n",
      "ThreshHold : 300\n",
      "\n",
      "\n",
      "Count : 139\n",
      "Total : 150\n",
      "Accuracy : 92\n",
      "------------------>Overall Accuracy<--------------- : 80\n",
      "------------------------\n",
      "File Name : Naturally-Blurred\n",
      "ThreshHold : 500\n",
      "\n",
      "\n",
      "Count : 171\n",
      "Total : 220\n",
      "Accuracy : 77\n",
      "------------------------\n",
      "File Name : Artificially-Blurred\n",
      "ThreshHold : 500\n",
      "\n",
      "\n",
      "Count : 150\n",
      "Total : 150\n",
      "Accuracy : 100\n",
      "------------------------\n",
      "File Name : NewDigitalBlur\n",
      "ThreshHold : 500\n",
      "\n",
      "\n",
      "Count : 148\n",
      "Total : 150\n",
      "Accuracy : 98\n",
      "------------------>Overall Accuracy<--------------- : 90\n",
      "------------------------\n",
      "File Name : Naturally-Blurred\n",
      "ThreshHold : 700\n",
      "\n",
      "\n",
      "Count : 193\n",
      "Total : 220\n",
      "Accuracy : 87\n",
      "------------------------\n",
      "File Name : Artificially-Blurred\n",
      "ThreshHold : 700\n",
      "\n",
      "\n",
      "Count : 150\n",
      "Total : 150\n",
      "Accuracy : 100\n",
      "------------------------\n",
      "File Name : NewDigitalBlur\n",
      "ThreshHold : 700\n",
      "\n",
      "\n",
      "Count : 148\n",
      "Total : 150\n",
      "Accuracy : 98\n",
      "------------------>Overall Accuracy<--------------- : 94\n",
      "------------------------\n",
      "File Name : Naturally-Blurred\n",
      "ThreshHold : 900\n",
      "\n",
      "\n",
      "Count : 197\n",
      "Total : 220\n",
      "Accuracy : 89\n",
      "------------------------\n",
      "File Name : Artificially-Blurred\n",
      "ThreshHold : 900\n",
      "\n",
      "\n",
      "Count : 150\n",
      "Total : 150\n",
      "Accuracy : 100\n",
      "------------------------\n",
      "File Name : NewDigitalBlur\n",
      "ThreshHold : 900\n",
      "\n",
      "\n",
      "Count : 150\n",
      "Total : 150\n",
      "Accuracy : 100\n",
      "------------------>Overall Accuracy<--------------- : 95\n",
      "------------------------\n",
      "File Name : Naturally-Blurred\n",
      "ThreshHold : 1100\n",
      "\n",
      "\n",
      "Count : 208\n",
      "Total : 220\n",
      "Accuracy : 94\n",
      "------------------------\n",
      "File Name : Artificially-Blurred\n",
      "ThreshHold : 1100\n",
      "\n",
      "\n",
      "Count : 150\n",
      "Total : 150\n",
      "Accuracy : 100\n",
      "------------------------\n",
      "File Name : NewDigitalBlur\n",
      "ThreshHold : 1100\n",
      "\n",
      "\n",
      "Count : 150\n",
      "Total : 150\n",
      "Accuracy : 100\n",
      "------------------>Overall Accuracy<--------------- : 97\n"
     ]
    }
   ],
   "source": [
    "accuracies = [] # List to store accuracies(Overall Accuracy)\n",
    "thresholds = []  # List to store thresholds\n",
    "threshold = 100 # Initial Threshhold\n",
    "\n",
    "while threshold < 1200: # Loop until threshhold < 1200\n",
    "    \n",
    "    total = len(Images[0]) + len(Images[1]) + len(Images[2]) # Total number of Images\n",
    "    total_Count = 0  # Initializing Total Count = 0 (Variable which will tell how much predictions are correct)\n",
    "    for i in range(0,3): # Loop (0,1,2,3)\n",
    "        print('------------------------')\n",
    "        print 'File Name : ' + filenames[i]\n",
    "        print('ThreshHold : ' + str(threshold))\n",
    "        print '\\n'\n",
    "        count = 0\n",
    "        Total = len(Images[i])\n",
    "        for i in Images[i]:\n",
    "            b = Process(i,threshold) # Calling Process Function Which will tell whether the image is blur or not\n",
    "            if b: # if b is true\n",
    "                count = count + 1  # increment the counter\n",
    "        total_Count = total_Count + count\n",
    "        print('Count : ' + str(count))\n",
    "        print('Total : ' + str(Total))\n",
    "        acc = int((float(count)/float(Total))*100) # Accuracy of prediction corresponding to one folder\n",
    "        print ('Accuracy : ' + str(acc))            \n",
    "    Overral_Acu = int((float(total_Count)/float(total))*100) # Calculating Overall Accuracy\n",
    "    accuracies.append(Overral_Acu) # Appending accuracy(Overall)\n",
    "    thresholds.append(threshold) # Appending Threshold\n",
    "    print('------------------>Overall Accuracy<--------------- : ' + str(Overral_Acu))    \n",
    "    threshold = threshold + 200 # incrementing threshold by 200"
   ]
  },
  {
   "cell_type": "code",
   "execution_count": 322,
   "metadata": {},
   "outputs": [
    {
     "name": "stdout",
     "output_type": "stream",
     "text": [
      "Threshold : 100 --> Accuracy : 55\n",
      "Threshold : 300 --> Accuracy : 80\n",
      "Threshold : 500 --> Accuracy : 90\n",
      "Threshold : 700 --> Accuracy : 94\n",
      "Threshold : 900 --> Accuracy : 95\n",
      "Threshold : 1100 --> Accuracy : 97\n"
     ]
    }
   ],
   "source": [
    "# Checking Overall Accuracy with corresponding threshold\n",
    "\n",
    "for i in range(0,6):\n",
    "    print ('Threshold : ' + str(thresholds[i]) + ' --> Accuracy : ' + str(accuracies[i]))"
   ]
  },
  {
   "cell_type": "code",
   "execution_count": 328,
   "metadata": {},
   "outputs": [
    {
     "data": {
      "image/png": "[encoded data removed]",
      "text/plain": [
       "<matplotlib.figure.Figure at 0x7f59449ba1d0>"
      ]
     },
     "metadata": {},
     "output_type": "display_data"
    }
   ],
   "source": [
    "# Overall Accuracy\n",
    "\n",
    "y = accuracies\n",
    "x = thresholds\n",
    "plt.plot(x,y)\n",
    "plt.xlabel('Thresholds')\n",
    "plt.ylabel('Accuracy')\n",
    "plt.title('Accuracy vs Threshold')\n",
    "plt.show()"
   ]
  },
  {
   "cell_type": "markdown",
   "metadata": {},
   "source": [
    "## Evaluation Set"
   ]
  },
  {
   "cell_type": "markdown",
   "metadata": {},
   "source": [
    "#### DigitalBlurSet"
   ]
  },
  {
   "cell_type": "code",
   "execution_count": 329,
   "metadata": {},
   "outputs": [],
   "source": [
    "evalpath = './EvaluationSet'\n",
    "DBS = pd.read_excel(evalpath + '/DigitalBlurSet.xlsx')"
   ]
  },
  {
   "cell_type": "code",
   "execution_count": 330,
   "metadata": {},
   "outputs": [
    {
     "data": {
      "text/html": [
       "<div>\n",
       "<style>\n",
       "    .dataframe thead tr:only-child th {\n",
       "        text-align: right;\n",
       "    }\n",
       "\n",
       "    .dataframe thead th {\n",
       "        text-align: left;\n",
       "    }\n",
       "\n",
       "    .dataframe tbody tr th {\n",
       "        vertical-align: top;\n",
       "    }\n",
       "</style>\n",
       "<table border=\"1\" class=\"dataframe\">\n",
       "  <thead>\n",
       "    <tr style=\"text-align: right;\">\n",
       "      <th></th>\n",
       "      <th>MyDigital Blur</th>\n",
       "      <th>Blur</th>\n",
       "    </tr>\n",
       "  </thead>\n",
       "  <tbody>\n",
       "    <tr>\n",
       "      <th>0</th>\n",
       "      <td>DiskR10_1.jpg</td>\n",
       "      <td>1</td>\n",
       "    </tr>\n",
       "    <tr>\n",
       "      <th>1</th>\n",
       "      <td>DiskR10_10.jpg</td>\n",
       "      <td>1</td>\n",
       "    </tr>\n",
       "    <tr>\n",
       "      <th>2</th>\n",
       "      <td>DiskR10_11.jpg</td>\n",
       "      <td>1</td>\n",
       "    </tr>\n",
       "    <tr>\n",
       "      <th>3</th>\n",
       "      <td>DiskR10_12.jpg</td>\n",
       "      <td>1</td>\n",
       "    </tr>\n",
       "    <tr>\n",
       "      <th>4</th>\n",
       "      <td>DiskR10_13.jpg</td>\n",
       "      <td>1</td>\n",
       "    </tr>\n",
       "  </tbody>\n",
       "</table>\n",
       "</div>"
      ],
      "text/plain": [
       "    MyDigital Blur  Blur\n",
       "0   DiskR10_1.jpg      1\n",
       "1  DiskR10_10.jpg      1\n",
       "2  DiskR10_11.jpg      1\n",
       "3  DiskR10_12.jpg      1\n",
       "4  DiskR10_13.jpg      1"
      ]
     },
     "execution_count": 330,
     "metadata": {},
     "output_type": "execute_result"
    }
   ],
   "source": [
    "DBS.head()"
   ]
  },
  {
   "cell_type": "code",
   "execution_count": 333,
   "metadata": {},
   "outputs": [],
   "source": [
    "DigitalBlurSet = evalpath + '/DigitalBlurSet/'\n",
    "Total = len(DBS['MyDigital Blur'])"
   ]
  },
  {
   "cell_type": "code",
   "execution_count": 334,
   "metadata": {},
   "outputs": [
    {
     "data": {
      "text/plain": [
       "480"
      ]
     },
     "execution_count": 334,
     "metadata": {},
     "output_type": "execute_result"
    }
   ],
   "source": [
    "Total"
   ]
  },
  {
   "cell_type": "code",
   "execution_count": 335,
   "metadata": {},
   "outputs": [
    {
     "name": "stdout",
     "output_type": "stream",
     "text": [
      "Starting ---->\n",
      "Accuracy : 93\n"
     ]
    }
   ],
   "source": [
    "## Getting Accuracy\n",
    "\n",
    "count = 0\n",
    "print ('Starting ---->')\n",
    "for i in range(0,len(DBS['MyDigital Blur'])):\n",
    "    filename = DBS['MyDigital Blur'][i]\n",
    "    filepath = DigitalBlurSet + (filename.strip())\n",
    "    b = Process(filepath, 700)\n",
    "    if int(b)==DBS['Blur'][i]:\n",
    "        count = count+1    \n",
    "print('Accuracy : ' + str(int((float(count)/float(Total))*100)))        "
   ]
  },
  {
   "cell_type": "markdown",
   "metadata": {},
   "source": [
    "#### NaturalBlurSet"
   ]
  },
  {
   "cell_type": "code",
   "execution_count": 337,
   "metadata": {},
   "outputs": [],
   "source": [
    "evalpath = './EvaluationSet'\n",
    "NBS = pd.read_excel(evalpath + '/NaturalBlurSet.xlsx')"
   ]
  },
  {
   "cell_type": "code",
   "execution_count": 338,
   "metadata": {},
   "outputs": [
    {
     "data": {
      "text/html": [
       "<div>\n",
       "<style>\n",
       "    .dataframe thead tr:only-child th {\n",
       "        text-align: right;\n",
       "    }\n",
       "\n",
       "    .dataframe thead th {\n",
       "        text-align: left;\n",
       "    }\n",
       "\n",
       "    .dataframe tbody tr th {\n",
       "        vertical-align: top;\n",
       "    }\n",
       "</style>\n",
       "<table border=\"1\" class=\"dataframe\">\n",
       "  <thead>\n",
       "    <tr style=\"text-align: right;\">\n",
       "      <th></th>\n",
       "      <th>Image Name</th>\n",
       "      <th>Blur Label</th>\n",
       "    </tr>\n",
       "  </thead>\n",
       "  <tbody>\n",
       "    <tr>\n",
       "      <th>0</th>\n",
       "      <td>Original_1</td>\n",
       "      <td>-1</td>\n",
       "    </tr>\n",
       "    <tr>\n",
       "      <th>1</th>\n",
       "      <td>Original_2</td>\n",
       "      <td>-1</td>\n",
       "    </tr>\n",
       "    <tr>\n",
       "      <th>2</th>\n",
       "      <td>Original_3</td>\n",
       "      <td>-1</td>\n",
       "    </tr>\n",
       "    <tr>\n",
       "      <th>3</th>\n",
       "      <td>Original_4</td>\n",
       "      <td>1</td>\n",
       "    </tr>\n",
       "    <tr>\n",
       "      <th>4</th>\n",
       "      <td>Original_5</td>\n",
       "      <td>1</td>\n",
       "    </tr>\n",
       "  </tbody>\n",
       "</table>\n",
       "</div>"
      ],
      "text/plain": [
       "   Image Name  Blur Label\n",
       "0  Original_1          -1\n",
       "1  Original_2          -1\n",
       "2  Original_3          -1\n",
       "3  Original_4           1\n",
       "4  Original_5           1"
      ]
     },
     "execution_count": 338,
     "metadata": {},
     "output_type": "execute_result"
    }
   ],
   "source": [
    "NBS.head()"
   ]
  },
  {
   "cell_type": "code",
   "execution_count": 339,
   "metadata": {},
   "outputs": [],
   "source": [
    "NaturalBlurSet = evalpath + '/NaturalBlurSet/'\n",
    "Total = len(NBS['Image Name'])"
   ]
  },
  {
   "cell_type": "code",
   "execution_count": 340,
   "metadata": {},
   "outputs": [
    {
     "data": {
      "text/plain": [
       "1000"
      ]
     },
     "execution_count": 340,
     "metadata": {},
     "output_type": "execute_result"
    }
   ],
   "source": [
    "Total"
   ]
  },
  {
   "cell_type": "code",
   "execution_count": 341,
   "metadata": {},
   "outputs": [
    {
     "name": "stdout",
     "output_type": "stream",
     "text": [
      "Starting ---->\n",
      "Accuracy : 41\n"
     ]
    }
   ],
   "source": [
    "## Getting Accuracy\n",
    "\n",
    "count = 0\n",
    "print ('Starting ---->')\n",
    "for i in range(0,Total):\n",
    "    filename = NBS['Image Name'][i]\n",
    "    filepath = NaturalBlurSet + (filename.strip()) + '.jpg'\n",
    "    b = Process(filepath, 700)\n",
    "    if int(b)==NBS['Blur Label'][i]:\n",
    "        count = count+1    \n",
    "print('Accuracy : ' + str(int((float(count)/float(Total))*100)))        "
   ]
  },
  {
   "cell_type": "markdown",
   "metadata": {},
   "source": [
    "# Using CNN\n",
    "\n",
    "- Model Used -> LENET\n",
    "- Batch Size -> 32\n",
    "- Epochs -> 5 \n",
    "\n",
    "### Process : \n",
    "\n",
    "- Making of a Training and Testing Dataset for\n",
    " - Naturally Blurred Dataset and undistorted\n",
    " - Digitally Blurred Dataset and undistorted\n",
    " - Combining All Blurred and undistorted <br/>\n",
    "<br>\n",
    "- Making of LENET Model<br>\n",
    "<br>\n",
    "- Compiling The Model<br>\n",
    "<br>\n",
    "- Making Of DataAugmented Data for Improving Accuracy<br>\n",
    "<br>\n",
    "- Training The Model<br>\n",
    "<br>\n",
    "- Evalutaiong The Model on Evalutaion Set <br/>\n",
    "<br>\n",
    "- To Improve Accuracy Further :\n",
    " - Try on Differet Models -> VGG16, Inception   \n",
    " - Increase The number of Epochs\n",
    " - More Data Augmentation"
   ]
  },
  {
   "cell_type": "code",
   "execution_count": 177,
   "metadata": {},
   "outputs": [],
   "source": [
    "# Importing necessary libraries\n",
    "\n",
    "from keras.models import Sequential\n",
    "from keras.layers import Conv2D\n",
    "from keras.layers import MaxPooling2D\n",
    "from keras.layers import Flatten\n",
    "from keras.layers import Dense\n",
    "import numpy as np\n",
    "from keras.preprocessing import image\n",
    "import pylab\n",
    "import imageio\n",
    "from keras.preprocessing.image import img_to_array\n",
    "import cv2\n",
    "from keras.models import load_model\n",
    "from keras.preprocessing.image import ImageDataGenerator\n",
    "from keras.layers.core import Activation"
   ]
  },
  {
   "cell_type": "markdown",
   "metadata": {},
   "source": [
    "## First : Naturally Blurred VS Undistorted"
   ]
  },
  {
   "cell_type": "code",
   "execution_count": 182,
   "metadata": {},
   "outputs": [
    {
     "name": "stdout",
     "output_type": "stream",
     "text": [
      "Naturally-Blurred\n",
      "Done : Naturally-Blurred\n",
      "Artificially-Blurred\n",
      "Done : Artificially-Blurred\n",
      "CNN-Natural-Train\n",
      "Done : CNN-Natural-Train\n",
      "NewDigitalBlur\n",
      "Done : NewDigitalBlur\n",
      "CNN-Natural-Test\n",
      "Done : CNN-Natural-Test\n",
      "Undistorted\n",
      "Done : Undistorted\n"
     ]
    }
   ],
   "source": [
    "# Making of Train and test Dataset\n",
    "Training_file = './TrainingSet/'\n",
    " \n",
    "Images = [] # Array for storing all folders images\n",
    "filenames = [] # Array to store all folders name\n",
    "\n",
    "for filename in os.listdir(Training_file): # Looping through Folders and getting file name one by one\n",
    "    lis = []         # Temporary List to store path of one image inside one folder\n",
    "    print(filename)\n",
    "    filenames.append(filename) # Appending File name\n",
    "    for image in os.listdir(Training_file+filename): # Getting Images from one folder \n",
    "        lis.append(Training_file+filename+'/'+image) # Appending image path to temporary list\n",
    "    Images.append(lis)              # Appending Temporary List to the Image array\n",
    "    print('Done : ' + str(filename))"
   ]
  },
  {
   "cell_type": "code",
   "execution_count": 190,
   "metadata": {},
   "outputs": [
    {
     "data": {
      "text/plain": [
       "630"
      ]
     },
     "execution_count": 190,
     "metadata": {},
     "output_type": "execute_result"
    }
   ],
   "source": [
    "len(Images[5])"
   ]
  },
  {
   "cell_type": "code",
   "execution_count": 189,
   "metadata": {},
   "outputs": [
    {
     "name": "stdout",
     "output_type": "stream",
     "text": [
      "----------->Start\n",
      "----------->Done\n"
     ]
    }
   ],
   "source": [
    "# Making of Naturally Blurred CNN Dataset\n",
    "\n",
    "#   -> Making 2 folders CNN-Train-Natural and CNN-Test-Natural\n",
    "#   -> Making 2 folders inside each folder named Naturally-Blurred and undistorted\n",
    "#   -> Splitting the data in the ration of 80% (Train) and 20%(Test) in each Naturally Blurred and undistorted\n",
    "\n",
    "Training_file = './CNNTraining/'\n",
    "if not os.path.exists(Training_file):\n",
    "    os.makedirs(Training_file)   \n",
    "def MakeNeutralDataset():\n",
    "    CNNTrain = 'CNN-Train-Natural/'\n",
    "    CNNTest = 'CNN-Test-Neutral/'\n",
    "    direc =  Training_file + CNNTrain\n",
    "    if not os.path.exists(direc):\n",
    "        os.makedirs(direc)    \n",
    "    direc =  Training_file + CNNTest\n",
    "    if not os.path.exists(direc):\n",
    "        os.makedirs(direc)    \n",
    "    direc =  Training_file + CNNTrain + 'Naturally-Blurred'\n",
    "    if not os.path.exists(direc):\n",
    "        os.makedirs(direc)    \n",
    "    direc =  Training_file + CNNTrain + 'undistorted'\n",
    "    if not os.path.exists(direc):\n",
    "        os.makedirs(direc)    \n",
    "    direc =  Training_file + CNNTest + 'undistorted'\n",
    "    if not os.path.exists(direc):\n",
    "        os.makedirs(direc)    \n",
    "    direc =  Training_file + CNNTest + 'Naturally-Blurred'\n",
    "    if not os.path.exists(direc):\n",
    "        os.makedirs(direc)    \n",
    "\n",
    "    print('----------->Start')\n",
    "    for i in range(0,len(Images[0])):\n",
    "        # Putting into Train 80%\n",
    "        if i<(len(Images[0]) * 0.8):\n",
    "            source = Images[0][i]\n",
    "            dest = Training_file+CNNTrain+'Naturally-Blurred/'+str(i)+'.jpg'\n",
    "            shutil.copy(source,dest)\n",
    "        else:\n",
    "            source = Images[0][i]\n",
    "            dest = Training_file+CNNTest+'Naturally-Blurred/'+str(i)+'.jpg'\n",
    "            shutil.copy(source,dest)\n",
    "        \n",
    "    print('----------->Done')  \n",
    "    print('----------->Start')\n",
    "    for i in range(0,len(Images[3])):\n",
    "        # Putting into Train 80%\n",
    "        if i<(len(Images[3]) * 0.8):\n",
    "            source = Images[3][i]\n",
    "            dest = Training_file+CNNTrain+'undistorted/'+str(i)+'.jpg'\n",
    "            shutil.copy(source,dest)\n",
    "        else:\n",
    "            source = Images[3][i]\n",
    "            dest = Training_file+CNNTest+'undistorted/'+str(i)+'.jpg'\n",
    "            shutil.copy(source,dest)\n",
    "        \n",
    "    print('----------->Done')       "
   ]
  },
  {
   "cell_type": "code",
   "execution_count": 191,
   "metadata": {},
   "outputs": [
    {
     "name": "stdout",
     "output_type": "stream",
     "text": [
      "----------->Start\n",
      "----------->Done\n"
     ]
    }
   ],
   "source": [
    "MakeNeutralDataset()    "
   ]
  },
  {
   "cell_type": "code",
   "execution_count": 202,
   "metadata": {},
   "outputs": [
    {
     "name": "stdout",
     "output_type": "stream",
     "text": [
      "_________________________________________________________________\n",
      "Layer (type)                 Output Shape              Param #   \n",
      "=================================================================\n",
      "conv2d_18 (Conv2D)           (None, 64, 64, 20)        1520      \n",
      "_________________________________________________________________\n",
      "activation_21 (Activation)   (None, 64, 64, 20)        0         \n",
      "_________________________________________________________________\n",
      "max_pooling2d_17 (MaxPooling (None, 32, 32, 20)        0         \n",
      "_________________________________________________________________\n",
      "conv2d_19 (Conv2D)           (None, 32, 32, 50)        25050     \n",
      "_________________________________________________________________\n",
      "activation_22 (Activation)   (None, 32, 32, 50)        0         \n",
      "_________________________________________________________________\n",
      "max_pooling2d_18 (MaxPooling (None, 16, 16, 50)        0         \n",
      "_________________________________________________________________\n",
      "flatten_9 (Flatten)          (None, 12800)             0         \n",
      "_________________________________________________________________\n",
      "dense_17 (Dense)             (None, 500)               6400500   \n",
      "_________________________________________________________________\n",
      "activation_23 (Activation)   (None, 500)               0         \n",
      "_________________________________________________________________\n",
      "dense_18 (Dense)             (None, 2)                 1002      \n",
      "_________________________________________________________________\n",
      "activation_24 (Activation)   (None, 2)                 0         \n",
      "=================================================================\n",
      "Total params: 6,428,072\n",
      "Trainable params: 6,428,072\n",
      "Non-trainable params: 0\n",
      "_________________________________________________________________\n"
     ]
    }
   ],
   "source": [
    "# LENET Model\n",
    "# Conv -> MaxPool -> Conv -> MaxPool -> Flatten -> FC -> FC\n",
    "\n",
    "model = Sequential()\n",
    "model.add(Conv2D(20, (5, 5), padding=\"same\",input_shape=(64, 64, 3)))\n",
    "model.add(Activation(\"relu\"))\n",
    "model.add(MaxPooling2D(pool_size=(2, 2), strides=(2, 2)))\n",
    "model.add(Conv2D(50, (5, 5), padding=\"same\"))\n",
    "model.add(Activation(\"relu\"))\n",
    "model.add(MaxPooling2D(pool_size=(2, 2), strides=(2, 2)))\n",
    "model.add(Flatten())\n",
    "model.add(Dense(500))\n",
    "model.add(Activation(\"relu\")) \n",
    "model.add(Dense(2))\n",
    "model.add(Activation(\"softmax\"))\n",
    "\n",
    "model.compile(optimizer = 'adam', loss = 'categorical_crossentropy', metrics = ['accuracy'])\n",
    "model.summary()"
   ]
  },
  {
   "cell_type": "code",
   "execution_count": 258,
   "metadata": {},
   "outputs": [
    {
     "name": "stdout",
     "output_type": "stream",
     "text": [
      "Found 680 images belonging to 2 classes.\n",
      "Found 170 images belonging to 2 classes.\n"
     ]
    }
   ],
   "source": [
    "# Making training set and testing set\n",
    "# Image Data Generator is used for Data Augmentation\n",
    "\n",
    "Training_file = './CNNTraining'\n",
    "\n",
    "train_datagen = ImageDataGenerator(rescale = 1./255)\n",
    "test_datagen = ImageDataGenerator(rescale = 1./255)\n",
    "\n",
    "training_set = train_datagen.flow_from_directory(Training_file+'/CNN-Train-Natural',\n",
    "                                                 target_size = (64, 64),\n",
    "                                                 batch_size = 32,\n",
    "                                                 class_mode = 'categorical')\n",
    "\n",
    "test_set = test_datagen.flow_from_directory(Training_file+'/CNN-Test-Neutral/',\n",
    "                                            target_size = (64, 64),\n",
    "                                            batch_size = 32,\n",
    "                                            class_mode = 'categorical')"
   ]
  },
  {
   "cell_type": "code",
   "execution_count": 195,
   "metadata": {},
   "outputs": [
    {
     "name": "stdout",
     "output_type": "stream",
     "text": [
      "21\n",
      "5\n"
     ]
    }
   ],
   "source": [
    "print(680/32) # Steps per Epoch\n",
    "print(170/32) # Validation Steps"
   ]
  },
  {
   "cell_type": "code",
   "execution_count": 259,
   "metadata": {},
   "outputs": [
    {
     "name": "stdout",
     "output_type": "stream",
     "text": [
      "Epoch 1/5\n",
      "21/21 [==============================] - 117s 6s/step - loss: 2.3426 - acc: 0.7006 - val_loss: 0.5900 - val_acc: 0.7562\n",
      "Epoch 2/5\n",
      "21/21 [==============================] - 134s 6s/step - loss: 0.5667 - acc: 0.7368 - val_loss: 0.6004 - val_acc: 0.6957\n",
      "Epoch 3/5\n",
      "21/21 [==============================] - 126s 6s/step - loss: 0.4991 - acc: 0.7604 - val_loss: 0.4469 - val_acc: 0.7971\n",
      "Epoch 4/5\n",
      "21/21 [==============================] - 106s 5s/step - loss: 0.5244 - acc: 0.7647 - val_loss: 0.5468 - val_acc: 0.7609\n",
      "Epoch 5/5\n",
      "21/21 [==============================] - 145s 7s/step - loss: 0.4600 - acc: 0.7991 - val_loss: 0.5074 - val_acc: 0.7319\n"
     ]
    }
   ],
   "source": [
    "#Training Model\n",
    "model.fit_generator(training_set,\n",
    "                         steps_per_epoch = 21,\n",
    "                         epochs = 5,\n",
    "                         validation_data = test_set,\n",
    "                         validation_steps = 5)\n",
    "                         \n",
    "model.save('modelLenet2.h5') # Saving Model  "
   ]
  },
  {
   "cell_type": "code",
   "execution_count": 168,
   "metadata": {},
   "outputs": [],
   "source": [
    "# Loading Model\n",
    "model  = load_model('modelLenet2.h5')"
   ]
  },
  {
   "cell_type": "code",
   "execution_count": 288,
   "metadata": {},
   "outputs": [],
   "source": [
    "# Function for Prediction\n",
    "\n",
    "# -> Reading the image from opencv\n",
    "# -> Resizing into (64,64)\n",
    "# -> Rescaling\n",
    "# -> Converting into Array\n",
    "# -> Expanding dimensions\n",
    "# -> Getting the result of prediction and index of class\n",
    "def predict(image):\n",
    "    # load the image, pre-process it, and store it in the data list\n",
    "    image = cv2.imread(image)\n",
    "    image = cv2.resize(image, (64, 64))\n",
    "    image = image.astype(\"float\") / 255.0\n",
    "    image = img_to_array(image)\n",
    "    image = np.expand_dims(image, axis=0)\n",
    "    result = model.predict(image)[0]\n",
    "    idx = np.argmax(result)\n",
    "    if(idx == 0):\n",
    "        return 1\n",
    "    else:\n",
    "        return -1"
   ]
  },
  {
   "cell_type": "code",
   "execution_count": 289,
   "metadata": {},
   "outputs": [
    {
     "data": {
      "text/plain": [
       "{'Naturally-Blurred': 0, 'undistorted': 1}"
      ]
     },
     "execution_count": 289,
     "metadata": {},
     "output_type": "execute_result"
    }
   ],
   "source": [
    "# Checking which index belongs to which class\n",
    "test_set.class_indices"
   ]
  },
  {
   "cell_type": "code",
   "execution_count": 290,
   "metadata": {},
   "outputs": [],
   "source": [
    "# Evaluating the model\n",
    "\n",
    "evalpath = './EvaluationSet'\n",
    "NBS = pd.read_excel(evalpath + '/NaturalBlurSet.xlsx')\n",
    "NaturalBlurSet = evalpath + '/NaturalBlurSet/'\n",
    "Total = len(NBS['Image Name']) # Total number of rows"
   ]
  },
  {
   "cell_type": "code",
   "execution_count": 291,
   "metadata": {},
   "outputs": [
    {
     "name": "stdout",
     "output_type": "stream",
     "text": [
      "Starting ---->\n",
      "Accuracy : 61\n"
     ]
    }
   ],
   "source": [
    "# Getting the Accuracy\n",
    "count = 0\n",
    "print ('Starting ---->')\n",
    "for i in range(0,Total):\n",
    "    filename = NBS['Image Name'][i]\n",
    "    filepath = NaturalBlurSet + (filename.strip()) + '.jpg'\n",
    "    b = predict(filepath)\n",
    "    if b==NBS['Blur Label'][i]:\n",
    "        count = count+1    \n",
    "print('Accuracy : ' + str(int((float(count)/float(Total))*100)))        "
   ]
  },
  {
   "cell_type": "markdown",
   "metadata": {},
   "source": [
    "## Digitally Blurred Vs Undistorted"
   ]
  },
  {
   "cell_type": "code",
   "execution_count": 293,
   "metadata": {},
   "outputs": [],
   "source": [
    "# Making of Digitally Blurred CNN Dataset\n",
    "\n",
    "#   -> Making 2 folders CNN-Train-Digital and CNN-Test-Digital\n",
    "#   -> Making 2 folders inside each folder named Digital-Blurred and undistorted\n",
    "#   -> Splitting the data in the ration of 80% (Train) and 20%(Test) in each Digital Blurred and undistorted\n",
    "\n",
    "Training_file = './CNNTraining/'\n",
    "if not os.path.exists(Training_file):\n",
    "    os.makedirs(Training_file)   \n",
    "def MakeDigitalDataset():\n",
    "    CNNTrain = 'CNN-Train-Digital/'\n",
    "    CNNTest = 'CNN-Test-Digital/'\n",
    "    direc =  Training_file + CNNTrain\n",
    "    if not os.path.exists(direc):\n",
    "        os.makedirs(direc)    \n",
    "    direc =  Training_file + CNNTest\n",
    "    if not os.path.exists(direc):\n",
    "        os.makedirs(direc)    \n",
    "    direc =  Training_file + CNNTrain + 'Digital-Blurred'\n",
    "    if not os.path.exists(direc):\n",
    "        os.makedirs(direc)    \n",
    "    direc =  Training_file + CNNTrain + 'undistorted'\n",
    "    if not os.path.exists(direc):\n",
    "        os.makedirs(direc)    \n",
    "    direc =  Training_file + CNNTest + 'undistorted'\n",
    "    if not os.path.exists(direc):\n",
    "        os.makedirs(direc)    \n",
    "    direc =  Training_file + CNNTest + 'Digital-Blurred'\n",
    "    if not os.path.exists(direc):\n",
    "        os.makedirs(direc)    \n",
    "\n",
    "    print('----------->Start')\n",
    "    for i in range(0,len(Images[0])):\n",
    "        # Putting into Train 80%\n",
    "        if i<(len(Images[1]) * 0.8):\n",
    "            source = Images[0][i]\n",
    "            dest = Training_file+CNNTrain+'Digital-Blurred/'+str(i)+'.jpg'\n",
    "            shutil.copy(source,dest)\n",
    "        else:\n",
    "            source = Images[0][i]\n",
    "            dest = Training_file+CNNTest+'Digital-Blurred/'+str(i)+'.jpg'\n",
    "            shutil.copy(source,dest)\n",
    "        \n",
    "    print('----------->Done')  \n",
    "    print('----------->Start')\n",
    "    for i in range(0,len(Images[5])):\n",
    "        # Putting into Train 80%\n",
    "        if i<(len(Images[5]) * 0.8):\n",
    "            source = Images[5][i]\n",
    "            dest = Training_file+CNNTrain+'undistorted/'+str(i)+'.jpg'\n",
    "            shutil.copy(source,dest)\n",
    "        else:\n",
    "            source = Images[5][i]\n",
    "            dest = Training_file+CNNTest+'undistorted/'+str(i)+'.jpg'\n",
    "            shutil.copy(source,dest)\n",
    "        \n",
    "    print('----------->Done')    "
   ]
  },
  {
   "cell_type": "code",
   "execution_count": 294,
   "metadata": {},
   "outputs": [
    {
     "name": "stdout",
     "output_type": "stream",
     "text": [
      "----------->Start\n",
      "----------->Done\n",
      "----------->Start\n",
      "----------->Done\n"
     ]
    }
   ],
   "source": [
    "MakeDigitalDataset()"
   ]
  },
  {
   "cell_type": "code",
   "execution_count": 295,
   "metadata": {},
   "outputs": [
    {
     "name": "stdout",
     "output_type": "stream",
     "text": [
      "_________________________________________________________________\n",
      "Layer (type)                 Output Shape              Param #   \n",
      "=================================================================\n",
      "conv2d_20 (Conv2D)           (None, 64, 64, 20)        1520      \n",
      "_________________________________________________________________\n",
      "activation_25 (Activation)   (None, 64, 64, 20)        0         \n",
      "_________________________________________________________________\n",
      "max_pooling2d_19 (MaxPooling (None, 32, 32, 20)        0         \n",
      "_________________________________________________________________\n",
      "conv2d_21 (Conv2D)           (None, 32, 32, 50)        25050     \n",
      "_________________________________________________________________\n",
      "activation_26 (Activation)   (None, 32, 32, 50)        0         \n",
      "_________________________________________________________________\n",
      "max_pooling2d_20 (MaxPooling (None, 16, 16, 50)        0         \n",
      "_________________________________________________________________\n",
      "flatten_10 (Flatten)         (None, 12800)             0         \n",
      "_________________________________________________________________\n",
      "dense_19 (Dense)             (None, 500)               6400500   \n",
      "_________________________________________________________________\n",
      "activation_27 (Activation)   (None, 500)               0         \n",
      "_________________________________________________________________\n",
      "dense_20 (Dense)             (None, 2)                 1002      \n",
      "_________________________________________________________________\n",
      "activation_28 (Activation)   (None, 2)                 0         \n",
      "=================================================================\n",
      "Total params: 6,428,072\n",
      "Trainable params: 6,428,072\n",
      "Non-trainable params: 0\n",
      "_________________________________________________________________\n"
     ]
    }
   ],
   "source": [
    "# Same LENET Model as Above\n",
    "\n",
    "model = Sequential()\n",
    "model.add(Conv2D(20, (5, 5), padding=\"same\",input_shape=(64, 64, 3)))\n",
    "model.add(Activation(\"relu\"))\n",
    "model.add(MaxPooling2D(pool_size=(2, 2), strides=(2, 2)))\n",
    "model.add(Conv2D(50, (5, 5), padding=\"same\"))\n",
    "model.add(Activation(\"relu\"))\n",
    "model.add(MaxPooling2D(pool_size=(2, 2), strides=(2, 2)))\n",
    "model.add(Flatten())\n",
    "model.add(Dense(500))\n",
    "model.add(Activation(\"relu\")) \n",
    "model.add(Dense(2))\n",
    "model.add(Activation(\"softmax\"))\n",
    "\n",
    "model.compile(optimizer = 'adam', loss = 'categorical_crossentropy', metrics = ['accuracy'])\n",
    "model.summary()"
   ]
  },
  {
   "cell_type": "code",
   "execution_count": 296,
   "metadata": {},
   "outputs": [
    {
     "name": "stdout",
     "output_type": "stream",
     "text": [
      "Found 624 images belonging to 2 classes.\n",
      "Found 226 images belonging to 2 classes.\n"
     ]
    }
   ],
   "source": [
    "# Making training set and testing set\n",
    "# Image Data Generator is used for Data Augmentation\n",
    "\n",
    "Training_file = './CNNTraining'\n",
    "\n",
    "train_datagen = ImageDataGenerator(rescale = 1./255)\n",
    "test_datagen = ImageDataGenerator(rescale = 1./255)\n",
    "\n",
    "training_set = train_datagen.flow_from_directory(Training_file + '/CNN-Train-Digital',\n",
    "                                                 target_size = (64, 64),\n",
    "                                                 batch_size = 32,\n",
    "                                                 class_mode = 'categorical')\n",
    "\n",
    "test_set = test_datagen.flow_from_directory(Training_file + '/CNN-Test-Digital/',\n",
    "                                            target_size = (64, 64),\n",
    "                                            batch_size = 32,\n",
    "                                            class_mode = 'categorical')"
   ]
  },
  {
   "cell_type": "code",
   "execution_count": 297,
   "metadata": {},
   "outputs": [
    {
     "name": "stdout",
     "output_type": "stream",
     "text": [
      "19\n",
      "7\n"
     ]
    }
   ],
   "source": [
    "print(624/32) # Steps per Epoch\n",
    "print (226/32) # Validation Steps"
   ]
  },
  {
   "cell_type": "code",
   "execution_count": 305,
   "metadata": {},
   "outputs": [
    {
     "name": "stdout",
     "output_type": "stream",
     "text": [
      "Epoch 1/5\n",
      "19/19 [==============================] - 114s 6s/step - loss: 0.3403 - acc: 0.8702 - val_loss: 0.7463 - val_acc: 0.6429\n",
      "Epoch 2/5\n",
      "19/19 [==============================] - 131s 7s/step - loss: 0.3194 - acc: 0.8848 - val_loss: 0.6643 - val_acc: 0.6495\n",
      "Epoch 3/5\n",
      "19/19 [==============================] - 122s 6s/step - loss: 0.2380 - acc: 0.9128 - val_loss: 0.9406 - val_acc: 0.6753\n",
      "Epoch 4/5\n",
      "19/19 [==============================] - 115s 6s/step - loss: 0.2344 - acc: 0.9242 - val_loss: 1.3240 - val_acc: 0.6186\n",
      "Epoch 5/5\n",
      "19/19 [==============================] - 113s 6s/step - loss: 0.1518 - acc: 0.9473 - val_loss: 0.9820 - val_acc: 0.5722\n"
     ]
    }
   ],
   "source": [
    "#Training Model\n",
    "model.fit_generator(training_set,\n",
    "                         steps_per_epoch = 19,\n",
    "                         epochs = 5,\n",
    "                         validation_data = test_set,\n",
    "                         validation_steps = 7)\n",
    "                         \n",
    "model.save('modelLenetDigital.h5') # Saving The Model  "
   ]
  },
  {
   "cell_type": "code",
   "execution_count": 306,
   "metadata": {},
   "outputs": [],
   "source": [
    "def predict(image):\n",
    "    # load the image, pre-process it, and store it in the data list\n",
    "    image = cv2.imread(image)\n",
    "    image = cv2.resize(image, (64, 64))\n",
    "    image = image.astype(\"float\") / 255.0\n",
    "    image = img_to_array(image)\n",
    "    image = np.expand_dims(image, axis=0)\n",
    "    result = model.predict(image)[0]\n",
    "    idx = np.argmax(result)\n",
    "    if(idx == 0):\n",
    "        return 1\n",
    "    else:\n",
    "        return -1"
   ]
  },
  {
   "cell_type": "code",
   "execution_count": 307,
   "metadata": {},
   "outputs": [
    {
     "data": {
      "text/plain": [
       "{'Digital-Blurred': 0, 'undistorted': 1}"
      ]
     },
     "execution_count": 307,
     "metadata": {},
     "output_type": "execute_result"
    }
   ],
   "source": [
    "# Getting idx corresponding to classes\n",
    "test_set.class_indices"
   ]
  },
  {
   "cell_type": "code",
   "execution_count": 308,
   "metadata": {},
   "outputs": [],
   "source": [
    "# Evaluating the Model\n",
    "evalpath = './EvaluationSet'\n",
    "DBS = pd.read_excel(evalpath + '/DigitalBlurSet.xlsx')"
   ]
  },
  {
   "cell_type": "code",
   "execution_count": 309,
   "metadata": {},
   "outputs": [],
   "source": [
    "DigitalBlurSet = evalpath + '/DigitalBlurSet/'\n",
    "Total = len(DBS['MyDigital Blur']) # Total Number of rows"
   ]
  },
  {
   "cell_type": "code",
   "execution_count": 310,
   "metadata": {},
   "outputs": [
    {
     "name": "stdout",
     "output_type": "stream",
     "text": [
      "Starting ---->\n",
      "Accuracy : 18\n"
     ]
    }
   ],
   "source": [
    "# Getting The Accuracy\n",
    "\n",
    "count = 0\n",
    "print ('Starting ---->')\n",
    "for i in range(0,Total):\n",
    "    filename = DBS['MyDigital Blur'][i]\n",
    "    filepath = DigitalBlurSet + (filename.strip())\n",
    "    b = predict(filepath)\n",
    "    if b==DBS['Blur'][i]:\n",
    "        count = count+1    \n",
    "print('Accuracy : ' + str(int((float(count)/float(Total))*100)))        "
   ]
  },
  {
   "cell_type": "markdown",
   "metadata": {},
   "source": [
    "## Digitally Blurred + Naturally Blurred VS Undistorted "
   ]
  },
  {
   "cell_type": "code",
   "execution_count": 349,
   "metadata": {},
   "outputs": [
    {
     "data": {
      "text/plain": [
       "4"
      ]
     },
     "execution_count": 349,
     "metadata": {},
     "output_type": "execute_result"
    }
   ],
   "source": [
    "len(Images)"
   ]
  },
  {
   "cell_type": "code",
   "execution_count": 350,
   "metadata": {},
   "outputs": [
    {
     "data": {
      "text/plain": [
       "['Naturally-Blurred', 'Artificially-Blurred', 'NewDigitalBlur', 'Undistorted']"
      ]
     },
     "execution_count": 350,
     "metadata": {},
     "output_type": "execute_result"
    }
   ],
   "source": [
    "filenames"
   ]
  },
  {
   "cell_type": "code",
   "execution_count": 358,
   "metadata": {},
   "outputs": [],
   "source": [
    "## Combining all Blurred and undistorted\n",
    "\n",
    "# Making of Digitally Blurred CNN Dataset\n",
    "\n",
    "#   -> Making 2 folders CNN-Train-Digital and CNN-Test-Digital\n",
    "#   -> Making 2 folders inside each folder named Digital-Blurred and undistorted\n",
    "#   -> Splitting the data in the ration of 80% (Train) and 20%(Test) in each Digital Blurred and undistorted\n",
    "\n",
    "Training_file = './CNNTraining/'\n",
    "if not os.path.exists(Training_file):\n",
    "    os.makedirs(Training_file)    \n",
    "def MakeAllDataset():\n",
    "    CNNTrain = 'CNN-Train-All/'\n",
    "    CNNTest = 'CNN-Test-All/'\n",
    "    direc =  Training_file + CNNTrain\n",
    "    if not os.path.exists(direc):\n",
    "        os.makedirs(direc)    \n",
    "    direc =  Training_file + CNNTest\n",
    "    if not os.path.exists(direc):\n",
    "        os.makedirs(direc)    \n",
    "    direc =  Training_file + CNNTrain + 'Blurred'\n",
    "    if not os.path.exists(direc):\n",
    "        os.makedirs(direc)    \n",
    "    direc =  Training_file + CNNTrain + 'undistorted'\n",
    "    if not os.path.exists(direc):\n",
    "        os.makedirs(direc)    \n",
    "    direc =  Training_file + CNNTest + 'undistorted'\n",
    "    if not os.path.exists(direc):\n",
    "        os.makedirs(direc)    \n",
    "    direc =  Training_file + CNNTest + 'Blurred'\n",
    "    if not os.path.exists(direc):\n",
    "        os.makedirs(direc)    \n",
    "\n",
    "    print('----------->Start')\n",
    "    for i in range(0,len(Images[0])):\n",
    "        # Putting into Train 80%\n",
    "        if i<(len(Images[0]) * 0.8):\n",
    "            source = Images[0][i]\n",
    "            dest = Training_file+CNNTrain+'Blurred/'+str(i)+'.jpg'\n",
    "            shutil.copy(source,dest)            \n",
    "        else:\n",
    "            source = Images[0][i]\n",
    "            dest = Training_file+CNNTest+'Blurred/'+str(i)+'.jpg'\n",
    "            shutil.copy(source,dest)\n",
    "            \n",
    "    for i in range(0,len(Images[1])):\n",
    "        # Putting into Train 80%\n",
    "        if i<(len(Images[1]) * 0.8):\n",
    "            source = Images[1][i]\n",
    "            dest = Training_file+CNNTrain+'Blurred/'+str(i)+'.jpg'\n",
    "            shutil.copy(source,dest)\n",
    "            \n",
    "        else:\n",
    "            source = Images[1][i]\n",
    "            dest = Training_file+CNNTest+'Blurred/'+str(i)+'.jpg'\n",
    "            shutil.copy(source,dest)\n",
    "            \n",
    "            \n",
    "    for i in range(0,len(Images[2])):\n",
    "        # Putting into Train 80%\n",
    "        if i<(len(Images[2]) * 0.8):\n",
    "            source = Images[2][i]\n",
    "            dest = Training_file+CNNTrain+'Blurred/'+str(i)+'.jpg'\n",
    "            shutil.copy(source,dest)\n",
    "            \n",
    "        else:\n",
    "            source = Images[2][i]\n",
    "            dest = Training_file+CNNTest+'Blurred/'+str(i)+'.jpg'\n",
    "            shutil.copy(source,dest)\n",
    "        \n",
    "    print('----------->Done')  \n",
    "    print('----------->Start')\n",
    "    for i in range(0,len(Images[3])):\n",
    "        # Putting into Train 80%\n",
    "        if i<(len(Images[3]) * 0.8):\n",
    "            source = Images[3][i]\n",
    "            dest = Training_file+CNNTrain+'undistorted/'+str(i)+'.jpg'\n",
    "            shutil.copy(source,dest)\n",
    "        else:\n",
    "            source = Images[3][i]\n",
    "            dest = Training_file+CNNTest+'undistorted/'+str(i)+'.jpg'\n",
    "            shutil.copy(source,dest)\n",
    "        \n",
    "    print('----------->Done')   "
   ]
  },
  {
   "cell_type": "code",
   "execution_count": 360,
   "metadata": {},
   "outputs": [
    {
     "name": "stdout",
     "output_type": "stream",
     "text": [
      "----------->Start\n",
      "----------->Done\n",
      "----------->Start\n",
      "----------->Done\n"
     ]
    }
   ],
   "source": [
    "MakeAllDataset()"
   ]
  },
  {
   "cell_type": "code",
   "execution_count": 361,
   "metadata": {},
   "outputs": [
    {
     "name": "stdout",
     "output_type": "stream",
     "text": [
      "_________________________________________________________________\n",
      "Layer (type)                 Output Shape              Param #   \n",
      "=================================================================\n",
      "conv2d_22 (Conv2D)           (None, 64, 64, 20)        1520      \n",
      "_________________________________________________________________\n",
      "activation_29 (Activation)   (None, 64, 64, 20)        0         \n",
      "_________________________________________________________________\n",
      "max_pooling2d_21 (MaxPooling (None, 32, 32, 20)        0         \n",
      "_________________________________________________________________\n",
      "conv2d_23 (Conv2D)           (None, 32, 32, 50)        25050     \n",
      "_________________________________________________________________\n",
      "activation_30 (Activation)   (None, 32, 32, 50)        0         \n",
      "_________________________________________________________________\n",
      "max_pooling2d_22 (MaxPooling (None, 16, 16, 50)        0         \n",
      "_________________________________________________________________\n",
      "flatten_11 (Flatten)         (None, 12800)             0         \n",
      "_________________________________________________________________\n",
      "dense_21 (Dense)             (None, 500)               6400500   \n",
      "_________________________________________________________________\n",
      "activation_31 (Activation)   (None, 500)               0         \n",
      "_________________________________________________________________\n",
      "dense_22 (Dense)             (None, 2)                 1002      \n",
      "_________________________________________________________________\n",
      "activation_32 (Activation)   (None, 2)                 0         \n",
      "=================================================================\n",
      "Total params: 6,428,072\n",
      "Trainable params: 6,428,072\n",
      "Non-trainable params: 0\n",
      "_________________________________________________________________\n"
     ]
    }
   ],
   "source": [
    "# Same LENET Model as Above\n",
    "\n",
    "model = Sequential()\n",
    "model.add(Conv2D(20, (5, 5), padding=\"same\",input_shape=(64, 64, 3)))\n",
    "model.add(Activation(\"relu\"))\n",
    "model.add(MaxPooling2D(pool_size=(2, 2), strides=(2, 2)))\n",
    "model.add(Conv2D(50, (5, 5), padding=\"same\"))\n",
    "model.add(Activation(\"relu\"))\n",
    "model.add(MaxPooling2D(pool_size=(2, 2), strides=(2, 2)))\n",
    "model.add(Flatten())\n",
    "model.add(Dense(500))\n",
    "model.add(Activation(\"relu\")) \n",
    "model.add(Dense(2))\n",
    "model.add(Activation(\"softmax\"))\n",
    "\n",
    "model.compile(optimizer = 'adam', loss = 'categorical_crossentropy', metrics = ['accuracy'])\n",
    "model.summary()"
   ]
  },
  {
   "cell_type": "code",
   "execution_count": 362,
   "metadata": {},
   "outputs": [
    {
     "name": "stdout",
     "output_type": "stream",
     "text": [
      "Found 680 images belonging to 2 classes.\n",
      "Found 200 images belonging to 2 classes.\n"
     ]
    }
   ],
   "source": [
    "# Making training set and testing set\n",
    "# Image Data Generator is used for Data Augmentation\n",
    "\n",
    "Training_file = './CNNTraining'\n",
    "\n",
    "train_datagen = ImageDataGenerator(rescale = 1./255)\n",
    "test_datagen = ImageDataGenerator(rescale = 1./255)\n",
    "\n",
    "training_set = train_datagen.flow_from_directory(Training_file + '/CNN-Train-All',\n",
    "                                                 target_size = (64, 64),\n",
    "                                                 batch_size = 32,\n",
    "                                                 class_mode = 'categorical')\n",
    "\n",
    "test_set = test_datagen.flow_from_directory(Training_file + '/CNN-Test-All/',\n",
    "                                            target_size = (64, 64),\n",
    "                                            batch_size = 32,\n",
    "                                            class_mode = 'categorical')"
   ]
  },
  {
   "cell_type": "code",
   "execution_count": 363,
   "metadata": {},
   "outputs": [
    {
     "name": "stdout",
     "output_type": "stream",
     "text": [
      "21\n",
      "6\n"
     ]
    }
   ],
   "source": [
    "print(680/32) # Steps per Epoch\n",
    "print (200/32) # Validation Steps"
   ]
  },
  {
   "cell_type": "code",
   "execution_count": 364,
   "metadata": {},
   "outputs": [
    {
     "name": "stdout",
     "output_type": "stream",
     "text": [
      "Epoch 1/5\n",
      "21/21 [==============================] - 183s 9s/step - loss: 0.6889 - acc: 0.6806 - val_loss: 0.6415 - val_acc: 0.6302\n",
      "Epoch 2/5\n",
      "21/21 [==============================] - 135s 6s/step - loss: 0.5448 - acc: 0.7394 - val_loss: 0.6319 - val_acc: 0.6429\n",
      "Epoch 3/5\n",
      "21/21 [==============================] - 135s 6s/step - loss: 0.5190 - acc: 0.7515 - val_loss: 0.7785 - val_acc: 0.6190\n",
      "Epoch 4/5\n",
      "21/21 [==============================] - 159s 8s/step - loss: 0.4870 - acc: 0.7398 - val_loss: 0.6258 - val_acc: 0.6190\n",
      "Epoch 5/5\n",
      "21/21 [==============================] - 113s 5s/step - loss: 0.4309 - acc: 0.7798 - val_loss: 0.8686 - val_acc: 0.6548\n"
     ]
    }
   ],
   "source": [
    "#Training Model\n",
    "model.fit_generator(training_set,\n",
    "                         steps_per_epoch = 21,\n",
    "                         epochs = 5,\n",
    "                         validation_data = test_set,\n",
    "                         validation_steps = 6)\n",
    "                         \n",
    "model.save('modelLenetAll.h5') # Saving The Model  "
   ]
  },
  {
   "cell_type": "code",
   "execution_count": 365,
   "metadata": {},
   "outputs": [],
   "source": [
    "def predict(image):\n",
    "    # load the image, pre-process it, and store it in the data list\n",
    "    image = cv2.imread(image)\n",
    "    image = cv2.resize(image, (64, 64))\n",
    "    image = image.astype(\"float\") / 255.0\n",
    "    image = img_to_array(image)\n",
    "    image = np.expand_dims(image, axis=0)\n",
    "    result = model.predict(image)[0]\n",
    "    idx = np.argmax(result)\n",
    "    if(idx == 0):\n",
    "        return 1\n",
    "    else:\n",
    "        return -1"
   ]
  },
  {
   "cell_type": "code",
   "execution_count": 366,
   "metadata": {},
   "outputs": [
    {
     "data": {
      "text/plain": [
       "{'Blurred': 0, 'undistorted': 1}"
      ]
     },
     "execution_count": 366,
     "metadata": {},
     "output_type": "execute_result"
    }
   ],
   "source": [
    "# Getting idx corresponding to classes\n",
    "test_set.class_indices"
   ]
  },
  {
   "cell_type": "code",
   "execution_count": 367,
   "metadata": {},
   "outputs": [],
   "source": [
    "# Evaluating the Model\n",
    "evalpath = './EvaluationSet'\n",
    "DBS = pd.read_excel(evalpath + '/DigitalBlurSet.xlsx')\n",
    "DigitalBlurSet = evalpath + '/DigitalBlurSet/'\n",
    "Total = len(DBS['MyDigital Blur']) # Total Number of rows\n",
    "\n",
    "evalpath = './EvaluationSet'\n",
    "NBS = pd.read_excel(evalpath + '/NaturalBlurSet.xlsx')\n",
    "NaturalBlurSet = evalpath + '/NaturalBlurSet/'\n",
    "Total1 = len(NBS['Image Name']) # Total number of rows"
   ]
  },
  {
   "cell_type": "code",
   "execution_count": 368,
   "metadata": {},
   "outputs": [
    {
     "name": "stdout",
     "output_type": "stream",
     "text": [
      "Starting ---->\n",
      "Digitally Blurred Accuracy : 11\n",
      "Starting ---->\n",
      " Naturally BlurredAccuracy : 59\n"
     ]
    }
   ],
   "source": [
    "# Getting The Digitally Blurred Accuracy\n",
    "count = 0\n",
    "print ('Starting ---->')\n",
    "for i in range(0,Total):\n",
    "    filename = DBS['MyDigital Blur'][i]\n",
    "    filepath = DigitalBlurSet + (filename.strip())\n",
    "    b = predict(filepath)\n",
    "    if b==DBS['Blur'][i]:\n",
    "        count = count+1    \n",
    "print('Digitally Blurred Accuracy : ' + str(int((float(count)/float(Total))*100))) \n",
    "\n",
    "# Getting the Naturally Blurred Accuracy\n",
    "count = 0\n",
    "print ('Starting ---->')\n",
    "for i in range(0,Total1):\n",
    "    filename = NBS['Image Name'][i]\n",
    "    filepath = NaturalBlurSet + (filename.strip()) + '.jpg'\n",
    "    b = predict(filepath)\n",
    "    if b==NBS['Blur Label'][i]:\n",
    "        count = count+1    \n",
    "print(' Naturally BlurredAccuracy : ' + str(int((float(count)/float(Total1))*100)))        "
   ]
  },
  {
   "cell_type": "markdown",
   "metadata": {},
   "source": [
    "# END"
   ]
  }
 ],
 "metadata": {
  "kernelspec": {
   "display_name": "Python 2",
   "language": "python",
   "name": "python2"
  },
  "language_info": {
   "codemirror_mode": {
    "name": "ipython",
    "version": 2
   },
   "file_extension": ".py",
   "mimetype": "text/x-python",
   "name": "python",
   "nbconvert_exporter": "python",
   "pygments_lexer": "ipython2",
   "version": "2.7.14"
  }
 },
 "nbformat": 4,
 "nbformat_minor": 2
}
